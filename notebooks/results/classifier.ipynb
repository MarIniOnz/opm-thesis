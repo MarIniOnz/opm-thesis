{
 "cells": [
  {
   "cell_type": "markdown",
   "metadata": {},
   "source": [
    "## Obtaining results for the deep learning classification table."
   ]
  },
  {
   "cell_type": "markdown",
   "metadata": {},
   "source": [
    "### DeepConvNet. Binary classification"
   ]
  },
  {
   "cell_type": "code",
   "execution_count": null,
   "metadata": {},
   "outputs": [],
   "source": [
    "import pickle\n",
    "import numpy as np\n",
    "import os\n",
    "\n",
    "id_pairs = [[2**i, 2**j] for i in range(3, 8) for j in range(i + 1, 8)]\n",
    "data_accuracies = \"./data/classifier_accuracies/all_data_deepconvnet.pkl\"\n",
    "\n",
    "with open(data_accuracies, \"rb\") as f:\n",
    "    accuracies = pickle.load(f)\n",
    "\n",
    "with open(data_accuracies, \"rb\") as f:\n",
    "    accuracies = pickle.load(f)\n",
    "for i, id_pair in enumerate(id_pairs):\n",
    "    # print the mean and std of the accuracies\n",
    "    mean = np.mean(accuracies[i])\n",
    "    std = np.std(accuracies[i])\n",
    "    # Print the mean and std of the accuracies with +- and the id pair\n",
    "    print(f\"Mean: {mean:.1f} +- {std:.1f} for id pair {id_pair}\")\n",
    "\n",
    "# mean total data\n",
    "mean = np.mean(accuracies)\n",
    "std = np.std(accuracies)\n",
    "print(f\"Mean: {mean:.1f} +- {std:.1f} for all data\")"
   ]
  },
  {
   "cell_type": "markdown",
   "metadata": {},
   "source": [
    "### LF-CNN. Binary classification"
   ]
  },
  {
   "cell_type": "code",
   "execution_count": null,
   "metadata": {},
   "outputs": [],
   "source": [
    "data_accuracies = \"./data/classifier_accuracies/all_data_lfcnn.pkl\"\n",
    "\n",
    "with open(data_accuracies, \"rb\") as f:\n",
    "    accuracies = pickle.load(f)\n",
    "\n",
    "with open(data_accuracies, \"rb\") as f:\n",
    "    accuracies = pickle.load(f)\n",
    "for i, id_pair in enumerate(id_pairs):\n",
    "    # print the mean and std of the accuracies\n",
    "    mean = np.mean(accuracies[i])\n",
    "    std = np.std(accuracies[i])\n",
    "    # Print the mean and std of the accuracies with +- and the id pair\n",
    "    print(f\"Mean: {mean:.1f} +- {std:.1f} for id pair {id_pair}\")\n",
    "\n",
    "total_mean = np.mean(accuracies)\n",
    "total_std = np.std(accuracies)\n",
    "print(f\"Mean: {total_mean:.1f} +- {total_std:.1f} for all data\")"
   ]
  },
  {
   "cell_type": "markdown",
   "metadata": {},
   "source": [
    "### LF-CNN. Multi-class classification"
   ]
  },
  {
   "cell_type": "code",
   "execution_count": null,
   "metadata": {},
   "outputs": [],
   "source": [
    "data_accuracies = \"./data/classifier_accuracies/all_data_lf_cnn_multiclass.pkl\"\n",
    "\n",
    "with open(data_accuracies, \"rb\") as f:\n",
    "    accuracies = pickle.load(f)\n",
    "\n",
    "with open(data_accuracies, \"rb\") as f:\n",
    "    accuracies = pickle.load(f)\n",
    "\n",
    "    # print the mean and std of the accuracies\n",
    "mean = np.mean(accuracies)\n",
    "std = np.std(accuracies)\n",
    "# Print the mean and std of the accuracies with +- and the id pair\n",
    "print(f\"Mean: {mean:.1f} +- {std:.1f} for id pair {id_pair}\")"
   ]
  },
  {
   "cell_type": "markdown",
   "metadata": {},
   "source": [
    "### DeepConvNet. Multi-class classification"
   ]
  },
  {
   "cell_type": "code",
   "execution_count": null,
   "metadata": {},
   "outputs": [],
   "source": [
    "data_accuracies = \"./data/classifier_accuracies/all_data_deepconvnet_multiclass.pkl\"\n",
    "\n",
    "with open(data_accuracies, \"rb\") as f:\n",
    "    accuracies = pickle.load(f)\n",
    "\n",
    "with open(data_accuracies, \"rb\") as f:\n",
    "    accuracies = pickle.load(f)\n",
    "\n",
    "    # print the mean and std of the accuracies\n",
    "mean = np.mean(accuracies)\n",
    "std = np.std(accuracies)\n",
    "# Print the mean and std of the accuracies with +- and the id pair\n",
    "print(f\"Mean: {mean:.1f} +- {std:.1f} for id pair {id_pair}\")"
   ]
  }
 ],
 "metadata": {
  "kernelspec": {
   "display_name": ".venv",
   "language": "python",
   "name": "python3"
  },
  "language_info": {
   "codemirror_mode": {
    "name": "ipython",
    "version": 3
   },
   "file_extension": ".py",
   "mimetype": "text/x-python",
   "name": "python",
   "nbconvert_exporter": "python",
   "pygments_lexer": "ipython3",
   "version": "3.9.16"
  }
 },
 "nbformat": 4,
 "nbformat_minor": 2
}
