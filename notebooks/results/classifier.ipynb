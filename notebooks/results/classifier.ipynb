{
 "cells": [
  {
   "cell_type": "code",
   "execution_count": 11,
   "metadata": {},
   "outputs": [
    {
     "name": "stdout",
     "output_type": "stream",
     "text": [
      "Mean: 53.8 +- 8.3 for id pair [8, 16]\n",
      "Mean: 56.7 +- 7.5 for id pair [8, 32]\n",
      "Mean: 56.0 +- 1.6 for id pair [8, 64]\n",
      "Mean: 59.0 +- 0.9 for id pair [8, 128]\n",
      "Mean: 56.9 +- 5.8 for id pair [16, 32]\n",
      "Mean: 54.8 +- 6.0 for id pair [16, 64]\n",
      "Mean: 56.5 +- 2.0 for id pair [16, 128]\n",
      "Mean: 51.3 +- 5.0 for id pair [32, 64]\n",
      "Mean: 52.9 +- 6.1 for id pair [32, 128]\n",
      "Mean: 49.1 +- 9.2 for id pair [64, 128]\n",
      "Mean: 54.7 +- 6.5 for all data\n"
     ]
    }
   ],
   "source": [
    "import pickle\n",
    "import numpy as np\n",
    "import os\n",
    "\n",
    "id_pairs = [[2**i, 2**j] for i in range(3, 8) for j in range(i + 1, 8)]\n",
    "data_accuracies = \"./data/classifier_accuracies/all_data_deepconvnet.pkl\"\n",
    "\n",
    "with open(data_accuracies, \"rb\") as f:\n",
    "    accuracies = pickle.load(f)\n",
    "\n",
    "with open(data_accuracies, \"rb\") as f:\n",
    "    accuracies = pickle.load(f)\n",
    "for i, id_pair in enumerate(id_pairs):\n",
    "    # print the mean and std of the accuracies\n",
    "    mean = np.mean(accuracies[i])\n",
    "    std = np.std(accuracies[i])\n",
    "    # Print the mean and std of the accuracies with +- and the id pair\n",
    "    print(f\"Mean: {mean:.1f} +- {std:.1f} for id pair {id_pair}\")\n",
    "\n",
    "# mean total data\n",
    "mean = np.mean(accuracies)\n",
    "std = np.std(accuracies)\n",
    "print(f\"Mean: {mean:.1f} +- {std:.1f} for all data\")"
   ]
  },
  {
   "cell_type": "code",
   "execution_count": 10,
   "metadata": {},
   "outputs": [
    {
     "name": "stdout",
     "output_type": "stream",
     "text": [
      "Mean: 58.4 +- 11.2 for id pair [8, 16]\n",
      "Mean: 63.2 +- 6.0 for id pair [8, 32]\n",
      "Mean: 58.6 +- 3.2 for id pair [8, 64]\n",
      "Mean: 76.3 +- 3.6 for id pair [8, 128]\n",
      "Mean: 51.0 +- 4.7 for id pair [16, 32]\n",
      "Mean: 50.3 +- 7.2 for id pair [16, 64]\n",
      "Mean: 65.6 +- 6.3 for id pair [16, 128]\n",
      "Mean: 48.1 +- 9.1 for id pair [32, 64]\n",
      "Mean: 63.9 +- 5.2 for id pair [32, 128]\n",
      "Mean: 54.8 +- 4.4 for id pair [64, 128]\n",
      "Mean: 59.0 +- 10.4 for all data\n"
     ]
    }
   ],
   "source": [
    "data_accuracies = \"./data/classifier_accuracies/all_data_lfcnn_maxpool2.pkl\"\n",
    "\n",
    "with open(data_accuracies, \"rb\") as f:\n",
    "    accuracies = pickle.load(f)\n",
    "\n",
    "with open(data_accuracies, \"rb\") as f:\n",
    "    accuracies = pickle.load(f)\n",
    "for i, id_pair in enumerate(id_pairs):\n",
    "    # print the mean and std of the accuracies\n",
    "    mean = np.mean(accuracies[i])\n",
    "    std = np.std(accuracies[i])\n",
    "    # Print the mean and std of the accuracies with +- and the id pair\n",
    "    print(f\"Mean: {mean:.1f} +- {std:.1f} for id pair {id_pair}\")\n",
    "\n",
    "total_mean = np.mean(accuracies)\n",
    "total_std = np.std(accuracies)\n",
    "print(f\"Mean: {total_mean:.1f} +- {total_std:.1f} for all data\")"
   ]
  },
  {
   "cell_type": "code",
   "execution_count": 4,
   "metadata": {},
   "outputs": [
    {
     "name": "stdout",
     "output_type": "stream",
     "text": [
      "Mean: 31.9 +- 6.0 for id pair [16, 64]\n"
     ]
    }
   ],
   "source": [
    "data_accuracies = \"./data/classifier_accuracies/all_data_lf_cnn_all_fingers.pkl\"\n",
    "\n",
    "with open(data_accuracies, \"rb\") as f:\n",
    "    accuracies = pickle.load(f)\n",
    "\n",
    "with open(data_accuracies, \"rb\") as f:\n",
    "    accuracies = pickle.load(f)\n",
    "\n",
    "    # print the mean and std of the accuracies\n",
    "mean = np.mean(accuracies)\n",
    "std = np.std(accuracies)\n",
    "# Print the mean and std of the accuracies with +- and the id pair\n",
    "print(f\"Mean: {mean:.1f} +- {std:.1f} for id pair {id_pair}\")"
   ]
  },
  {
   "cell_type": "code",
   "execution_count": 12,
   "metadata": {},
   "outputs": [
    {
     "name": "stdout",
     "output_type": "stream",
     "text": [
      "Mean: 21.7 +- 3.9 for id pair [64, 128]\n"
     ]
    }
   ],
   "source": [
    "data_accuracies = \"./data/classifier_accuracies/all_data_lf_cnn_all_fingers.pkl\"\n",
    "\n",
    "with open(data_accuracies, \"rb\") as f:\n",
    "    accuracies = pickle.load(f)\n",
    "\n",
    "with open(data_accuracies, \"rb\") as f:\n",
    "    accuracies = pickle.load(f)\n",
    "\n",
    "    # print the mean and std of the accuracies\n",
    "mean = np.mean(accuracies)\n",
    "std = np.std(accuracies)\n",
    "# Print the mean and std of the accuracies with +- and the id pair\n",
    "print(f\"Mean: {mean:.1f} +- {std:.1f} for id pair {id_pair}\")"
   ]
  },
  {
   "cell_type": "code",
   "execution_count": 16,
   "metadata": {},
   "outputs": [
    {
     "name": "stdout",
     "output_type": "stream",
     "text": [
      "Mean: 49.1 +- 9.2 for all fingers\n"
     ]
    },
    {
     "data": {
      "text/plain": [
       "[[63.46153846153846, 43.13725490196079, 54.90196078431373],\n",
       " [67.3076923076923, 51.92307692307693, 50.98039215686274],\n",
       " [56.60377358490566, 57.692307692307686, 53.84615384615385],\n",
       " [57.692307692307686, 59.61538461538461, 59.61538461538461],\n",
       " [50.98039215686274, 64.70588235294117, 54.90196078431373],\n",
       " [61.53846153846154, 55.769230769230774, 47.05882352941176],\n",
       " [53.84615384615385, 58.82352941176471, 56.86274509803921],\n",
       " [55.769230769230774, 53.84615384615385, 44.230769230769226],\n",
       " [61.53846153846154, 48.07692307692308, 49.01960784313725],\n",
       " [39.62264150943396, 61.53846153846154, 46.15384615384615]]"
      ]
     },
     "execution_count": 16,
     "metadata": {},
     "output_type": "execute_result"
    }
   ],
   "source": [
    "data_all_fingers = \"./data/classifier_accuracies/beta_lf_cnn_all_fingers.pkl\"\n",
    "with open(data_accuracies, \"rb\") as f:\n",
    "    accuracies = pickle.load(f)\n",
    "mean = np.mean(accuracies[i])\n",
    "std = np.std(accuracies[i])\n",
    "print(f\"Mean: {mean:.1f} +- {std:.1f} for all fingers\")\n",
    "accuracies"
   ]
  },
  {
   "cell_type": "code",
   "execution_count": 15,
   "metadata": {},
   "outputs": [
    {
     "name": "stdout",
     "output_type": "stream",
     "text": [
      "Mean: 49.1 +- 9.2 for all fingers\n"
     ]
    },
    {
     "data": {
      "text/plain": [
       "[[63.46153846153846, 43.13725490196079, 54.90196078431373],\n",
       " [67.3076923076923, 51.92307692307693, 50.98039215686274],\n",
       " [56.60377358490566, 57.692307692307686, 53.84615384615385],\n",
       " [57.692307692307686, 59.61538461538461, 59.61538461538461],\n",
       " [50.98039215686274, 64.70588235294117, 54.90196078431373],\n",
       " [61.53846153846154, 55.769230769230774, 47.05882352941176],\n",
       " [53.84615384615385, 58.82352941176471, 56.86274509803921],\n",
       " [55.769230769230774, 53.84615384615385, 44.230769230769226],\n",
       " [61.53846153846154, 48.07692307692308, 49.01960784313725],\n",
       " [39.62264150943396, 61.53846153846154, 46.15384615384615]]"
      ]
     },
     "execution_count": 15,
     "metadata": {},
     "output_type": "execute_result"
    }
   ],
   "source": [
    "data_all_fingers = \"./data/classifier_accuracies/all_data_lf_cnn_all_fingers.pkl\"\n",
    "with open(data_accuracies, \"rb\") as f:\n",
    "    accuracies = pickle.load(f)\n",
    "mean = np.mean(accuracies[i])\n",
    "std = np.std(accuracies[i])\n",
    "print(f\"Mean: {mean:.1f} +- {std:.1f} for all fingers\")\n",
    "\n",
    "accuracies"
   ]
  }
 ],
 "metadata": {
  "kernelspec": {
   "display_name": ".venv",
   "language": "python",
   "name": "python3"
  },
  "language_info": {
   "codemirror_mode": {
    "name": "ipython",
    "version": 3
   },
   "file_extension": ".py",
   "mimetype": "text/x-python",
   "name": "python",
   "nbconvert_exporter": "python",
   "pygments_lexer": "ipython3",
   "version": "3.9.16"
  }
 },
 "nbformat": 4,
 "nbformat_minor": 2
}
