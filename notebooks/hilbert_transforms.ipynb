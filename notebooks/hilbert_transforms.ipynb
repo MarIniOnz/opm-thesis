{
 "cells": [
  {
   "cell_type": "markdown",
   "metadata": {},
   "source": [
    "# Creating Hilbert transforms"
   ]
  },
  {
   "cell_type": "code",
   "execution_count": 1,
   "metadata": {},
   "outputs": [],
   "source": [
    "import mne\n",
    "import pickle\n",
    "import numpy as np\n",
    "import matplotlib.pyplot as plt"
   ]
  },
  {
   "cell_type": "code",
   "execution_count": 2,
   "metadata": {},
   "outputs": [],
   "source": [
    "data_save = (\n",
    "    r\"C:\\Users\\user\\Desktop\\MasterThesis\\opm-thesis\\data\\data_nottingham_preprocessed\"\n",
    ")\n",
    "\n",
    "all_bads = []\n",
    "acq_times = [\"155445\", \"160513\", \"161344\", \"163001\"]\n",
    "\n",
    "preprocessing = pickle.load(\n",
    "    open(data_save + \"\\\\preprocessing_\" + acq_times[0] + \".pkl\", \"rb\")\n",
    ")"
   ]
  },
  {
   "cell_type": "code",
   "execution_count": 3,
   "metadata": {},
   "outputs": [],
   "source": [
    "picks = mne.pick_types(preprocessing.raw.info, meg='mag', exclude='bads')\n",
    "hilbert_transformed = preprocessing.raw.copy().apply_hilbert(picks=picks)"
   ]
  },
  {
   "cell_type": "code",
   "execution_count": 4,
   "metadata": {},
   "outputs": [
    {
     "ename": "TypeError",
     "evalue": "Preprocessing.create_epochs() missing 1 required positional argument: 'epochs_params'",
     "output_type": "error",
     "traceback": [
      "\u001b[1;31m---------------------------------------------------------------------------\u001b[0m",
      "\u001b[1;31mTypeError\u001b[0m                                 Traceback (most recent call last)",
      "Cell \u001b[1;32mIn[4], line 1\u001b[0m\n\u001b[1;32m----> 1\u001b[0m hilbert_epochs \u001b[39m=\u001b[39m preprocessing\u001b[39m.\u001b[39;49mcreate_epochs(hilbert_transformed)\n",
      "\u001b[1;31mTypeError\u001b[0m: Preprocessing.create_epochs() missing 1 required positional argument: 'epochs_params'"
     ]
    }
   ],
   "source": [
    "hilbert_epochs = preprocessing.create_epochs(hilbert_transformed)"
   ]
  }
 ],
 "metadata": {
  "kernelspec": {
   "display_name": ".venv",
   "language": "python",
   "name": "python3"
  },
  "language_info": {
   "codemirror_mode": {
    "name": "ipython",
    "version": 3
   },
   "file_extension": ".py",
   "mimetype": "text/x-python",
   "name": "python",
   "nbconvert_exporter": "python",
   "pygments_lexer": "ipython3",
   "version": "3.10.8"
  },
  "orig_nbformat": 4
 },
 "nbformat": 4,
 "nbformat_minor": 2
}
