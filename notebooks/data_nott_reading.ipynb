{
 "cells": [
  {
   "cell_type": "code",
   "execution_count": 3,
   "metadata": {},
   "outputs": [],
   "source": [
    "from opm_thesis.read_files.cMEG2fif_bespoke import get_data_mne\n",
    "from opm_thesis.preprocessing.preprocessing import Preprocessing"
   ]
  },
  {
   "cell_type": "code",
   "execution_count": 4,
   "metadata": {},
   "outputs": [
    {
     "name": "stdout",
     "output_type": "stream",
     "text": [
      "Loading File\n",
      "Sorting Sensor Information\n",
      "Creating MNE Info\n",
      "Sensor Location Information\n",
      "Create raw object\n",
      "Creating RawArray with float64 data, n_channels=203, n_times=540720\n",
      "    Range : 0 ... 540719 =      0.000 ...   450.599 secs\n",
      "Ready.\n"
     ]
    }
   ],
   "source": [
    "data_dir = r\"C:\\Users\\user\\Desktop\\MasterThesis\\data_nottingham\"\n",
    "acq_times = [\"155445\", \"160513\", \"161344\", \"163001\", \"164054\", \"165308\"]\n",
    "raw, events, events_id = get_data_mne(data_dir, day=\"20230622\", acq_time=acq_times[0])\n",
    "preprocessing = Preprocessing(raw, events, events_id)"
   ]
  },
  {
   "cell_type": "code",
   "execution_count": 5,
   "metadata": {},
   "outputs": [
    {
     "name": "stdout",
     "output_type": "stream",
     "text": [
      "[2, 30, 77]\n"
     ]
    }
   ],
   "source": [
    "print(preprocessing.wrong_trials)"
   ]
  }
 ],
 "metadata": {
  "kernelspec": {
   "display_name": ".venv",
   "language": "python",
   "name": "python3"
  },
  "language_info": {
   "codemirror_mode": {
    "name": "ipython",
    "version": 3
   },
   "file_extension": ".py",
   "mimetype": "text/x-python",
   "name": "python",
   "nbconvert_exporter": "python",
   "pygments_lexer": "ipython3",
   "version": "3.10.8"
  },
  "orig_nbformat": 4
 },
 "nbformat": 4,
 "nbformat_minor": 2
}
