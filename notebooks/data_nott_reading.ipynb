{
 "cells": [
  {
   "cell_type": "code",
   "execution_count": 3,
   "metadata": {},
   "outputs": [],
   "source": [
    "from opm_thesis.read_files.cMEG2fif_bespoke import get_data_mne"
   ]
  },
  {
   "cell_type": "code",
   "execution_count": 4,
   "metadata": {},
   "outputs": [
    {
     "name": "stdout",
     "output_type": "stream",
     "text": [
      "Loading File\n",
      "Sorting Sensor Information\n",
      "Creating MNE Info\n",
      "Sensor Location Information\n",
      "Create raw object\n",
      "Creating RawArray with float64 data, n_channels=203, n_times=540720\n",
      "    Range : 0 ... 540719 =      0.000 ...   450.599 secs\n",
      "Ready.\n"
     ]
    }
   ],
   "source": [
    "data_dir = r\"C:\\Users\\user\\Desktop\\MasterThesis\\data_nottingham\"\n",
    "acq_times = [\"155445\", \"160513\", \"161344\", \"163001\", \"164054\", \"165308\"]\n",
    "lens = []\n",
    "raw, events, events_id = get_data_mne(data_dir, day=\"20230622\", acq_time=acq_times[0])"
   ]
  },
  {
   "cell_type": "code",
   "execution_count": 5,
   "metadata": {},
   "outputs": [
    {
     "data": {
      "text/plain": [
       "301"
      ]
     },
     "execution_count": 5,
     "metadata": {},
     "output_type": "execute_result"
    }
   ],
   "source": [
    "len(events)"
   ]
  },
  {
   "cell_type": "code",
   "execution_count": 6,
   "metadata": {},
   "outputs": [],
   "source": [
    "wrong_idx = []\n",
    "new_events = events.copy()\n",
    "for i in range(len(events)-1):\n",
    "    if events[i][2] <= 5:\n",
    "      if events[i+1][2] != events[i][2]**2:\n",
    "        wrong_idx.append(i)"
   ]
  },
  {
   "cell_type": "code",
   "execution_count": 2,
   "metadata": {},
   "outputs": [
    {
     "ename": "NameError",
     "evalue": "name 'wrong_idx' is not defined",
     "output_type": "error",
     "traceback": [
      "\u001b[1;31m---------------------------------------------------------------------------\u001b[0m",
      "\u001b[1;31mNameError\u001b[0m                                 Traceback (most recent call last)",
      "Cell \u001b[1;32mIn[2], line 1\u001b[0m\n\u001b[1;32m----> 1\u001b[0m wrong_idx\n",
      "\u001b[1;31mNameError\u001b[0m: name 'wrong_idx' is not defined"
     ]
    }
   ],
   "source": [
    "wrong_idx"
   ]
  }
 ],
 "metadata": {
  "kernelspec": {
   "display_name": ".venv",
   "language": "python",
   "name": "python3"
  },
  "language_info": {
   "codemirror_mode": {
    "name": "ipython",
    "version": 3
   },
   "file_extension": ".py",
   "mimetype": "text/x-python",
   "name": "python",
   "nbconvert_exporter": "python",
   "pygments_lexer": "ipython3",
   "version": "3.10.8"
  },
  "orig_nbformat": 4
 },
 "nbformat": 4,
 "nbformat_minor": 2
}
