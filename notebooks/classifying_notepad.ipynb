{
 "cells": [
  {
   "cell_type": "code",
   "execution_count": 5,
   "metadata": {},
   "outputs": [],
   "source": [
    "import mne\n",
    "import pickle\n",
    "import numpy as np\n",
    "from torch.utils.data import DataLoader\n",
    "\n",
    "from sklearn.model_selection import train_test_split\n",
    "from opm_thesis.classifiers.classifier import DeepConvNet, MyDataset\n",
    "\n",
    "EPOCHS_DIR = (\n",
    "    r\"/Users/martin.iniguez/Desktop/master_thesis/opm-thesis/data/data_nottingham_preprocessed/all_epochs.pkl\"\n",
    ")\n",
    "\n",
    "decimate=False\n",
    "with open(EPOCHS_DIR, \"rb\") as f:\n",
    "  epochs = pickle.load(f)\n",
    "\n",
    "picks = mne.pick_types(epochs.info, meg=True, exclude=\"bads\")\n",
    "\n",
    "# Extract the epoch data for the selected channels\n",
    "x = epochs.get_data()[:, picks]\n",
    "num_channels = x.shape[1]\n",
    "num_samples = x.shape[2]\n",
    "\n",
    "y = (np.log2(epochs.events[:, 2]) - 2).astype(int)\n",
    "\n",
    "if decimate:\n",
    "    x = x[:, :, ::10]"
   ]
  },
  {
   "cell_type": "code",
   "execution_count": 6,
   "metadata": {},
   "outputs": [],
   "source": [
    "# Split the data into training and testing sets\n",
    "x_train, x_test, y_train, y_test = train_test_split(\n",
    "    x, y, test_size=0.2, random_state=50\n",
    ")\n",
    "\n",
    "dataset_train = MyDataset(x_train, y_train)\n",
    "dataset_test = MyDataset(x_test, y_test)\n",
    "\n",
    "# Define batch size for training\n",
    "batch_size = 16  # You can adjust this based on your available memory\n",
    "\n",
    "# Create a DataLoader for your dataset\n",
    "train_loader = DataLoader(dataset_train, batch_size=batch_size, shuffle=True)\n",
    "test_loader = DataLoader(dataset_test, batch_size=batch_size, shuffle=False)"
   ]
  },
  {
   "cell_type": "code",
   "execution_count": 7,
   "metadata": {},
   "outputs": [
    {
     "name": "stdout",
     "output_type": "stream",
     "text": [
      "Epoch [1/50], Loss: 1.6085\n",
      "Epoch [2/50], Loss: 1.6093\n",
      "Epoch [3/50], Loss: 1.6095\n",
      "Epoch [4/50], Loss: 1.6100\n",
      "Epoch [5/50], Loss: 1.6098\n",
      "Epoch [6/50], Loss: 1.6099\n",
      "Epoch [7/50], Loss: 1.6102\n",
      "Epoch [8/50], Loss: 1.6092\n",
      "Epoch [9/50], Loss: 1.6117\n",
      "Epoch [10/50], Loss: 1.6092\n",
      "Epoch [11/50], Loss: 1.6090\n",
      "Epoch [12/50], Loss: 1.6048\n",
      "Epoch [13/50], Loss: 1.6089\n",
      "Epoch [14/50], Loss: 1.6128\n",
      "Epoch [15/50], Loss: 1.6087\n",
      "Epoch [16/50], Loss: 1.6107\n",
      "Epoch [17/50], Loss: 1.6091\n",
      "Epoch [18/50], Loss: 1.6091\n",
      "Epoch [19/50], Loss: 1.6123\n",
      "Epoch [20/50], Loss: 1.6052\n",
      "Epoch [21/50], Loss: 1.6207\n",
      "Epoch [22/50], Loss: 1.6095\n",
      "Epoch [23/50], Loss: 1.6096\n",
      "Epoch [24/50], Loss: 1.6064\n",
      "Epoch [25/50], Loss: 1.6186\n",
      "Epoch [26/50], Loss: 1.6041\n",
      "Epoch [27/50], Loss: 1.6110\n",
      "Epoch [28/50], Loss: 1.6063\n",
      "Epoch [29/50], Loss: 1.6128\n",
      "Epoch [30/50], Loss: 1.6121\n",
      "Epoch [31/50], Loss: 1.6071\n",
      "Epoch [32/50], Loss: 1.6130\n",
      "Epoch [33/50], Loss: 1.6158\n",
      "Epoch [34/50], Loss: 1.6100\n",
      "Epoch [35/50], Loss: 1.6086\n",
      "Epoch [36/50], Loss: 1.6165\n",
      "Epoch [37/50], Loss: 1.6024\n",
      "Epoch [38/50], Loss: 1.6160\n",
      "Epoch [39/50], Loss: 1.6122\n",
      "Epoch [40/50], Loss: 1.6089\n",
      "Epoch [41/50], Loss: 1.6118\n",
      "Epoch [42/50], Loss: 1.6176\n",
      "Epoch [43/50], Loss: 1.6088\n",
      "Epoch [44/50], Loss: 1.6051\n",
      "Epoch [45/50], Loss: 1.6141\n",
      "Epoch [46/50], Loss: 1.6031\n",
      "Epoch [47/50], Loss: 1.6125\n",
      "Epoch [48/50], Loss: 1.6080\n",
      "Epoch [49/50], Loss: 1.6124\n",
      "Epoch [50/50], Loss: 1.6064\n"
     ]
    }
   ],
   "source": [
    "classifier = DeepConvNet(num_channels=num_channels, num_samples=num_samples, num_classes=5)\n",
    "\n",
    "# Train the classifier using your training data\n",
    "# train_loader should be a DataLoader containing your training data\n",
    "classifier.train(train_loader, num_epochs=50, learning_rate=0.001)"
   ]
  },
  {
   "cell_type": "code",
   "execution_count": 8,
   "metadata": {},
   "outputs": [
    {
     "name": "stdout",
     "output_type": "stream",
     "text": [
      "Test Accuracy: 0.1795\n"
     ]
    }
   ],
   "source": [
    "classifier.evaluate(test_loader) "
   ]
  }
 ],
 "metadata": {
  "kernelspec": {
   "display_name": ".venv",
   "language": "python",
   "name": "python3"
  },
  "language_info": {
   "codemirror_mode": {
    "name": "ipython",
    "version": 3
   },
   "file_extension": ".py",
   "mimetype": "text/x-python",
   "name": "python",
   "nbconvert_exporter": "python",
   "pygments_lexer": "ipython3",
   "version": "3.9.0"
  },
  "orig_nbformat": 4
 },
 "nbformat": 4,
 "nbformat_minor": 2
}
