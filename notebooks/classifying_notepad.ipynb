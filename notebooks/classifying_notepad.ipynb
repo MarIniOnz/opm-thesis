{
 "cells": [
  {
   "cell_type": "code",
   "execution_count": 3,
   "metadata": {},
   "outputs": [],
   "source": [
    "import mne\n",
    "import pickle\n",
    "import numpy as np\n",
    "from torch.utils.data import DataLoader\n",
    "\n",
    "from sklearn.model_selection import train_test_split\n",
    "from opm_thesis.classifiers.classifier import Classifier, MyDataset\n",
    "\n",
    "data_save = (\n",
    "    r\"C:\\Users\\user\\Desktop\\MasterThesis\\opm-thesis\\data\\data_nottingham_preprocessed\\epochs\"\n",
    ")\n",
    "frequency_band = \"low_gamma\"\n",
    "decimate=False\n",
    "with open(data_save + \"\\\\hilbert_\" + frequency_band + \"_all_epochs.pkl\", \"rb\") as f:\n",
    "  epochs = pickle.load(f)\n",
    "\n",
    "picks = mne.pick_types(epochs.info, meg=True, exclude=\"bads\")\n",
    "\n",
    "# Extract the epoch data for the selected channels\n",
    "x = epochs.get_data()[:, picks]\n",
    "y = (np.log2(epochs.events[:, 2]) - 2).astype(int)\n",
    "\n",
    "if decimate:\n",
    "    x = x[:, :, ::10]"
   ]
  },
  {
   "cell_type": "code",
   "execution_count": 4,
   "metadata": {},
   "outputs": [],
   "source": [
    "# Split the data into training and testing sets\n",
    "x_train, x_test, y_train, y_test = train_test_split(\n",
    "    x, y, test_size=0.2, random_state=50\n",
    ")\n",
    "\n",
    "dataset_train = MyDataset(x_train, y_train)\n",
    "dataset_test = MyDataset(x_test, y_test)\n",
    "\n",
    "# Define batch size for training\n",
    "batch_size = 16  # You can adjust this based on your available memory\n",
    "\n",
    "# Create a DataLoader for your dataset\n",
    "train_loader = DataLoader(dataset_train, batch_size=batch_size, shuffle=True)\n",
    "test_loader = DataLoader(dataset_test, batch_size=batch_size, shuffle=False)"
   ]
  },
  {
   "cell_type": "code",
   "execution_count": 5,
   "metadata": {},
   "outputs": [
    {
     "ename": "TypeError",
     "evalue": "Classifier.__init__() got an unexpected keyword argument 'num_samples'",
     "output_type": "error",
     "traceback": [
      "\u001b[1;31m---------------------------------------------------------------------------\u001b[0m",
      "\u001b[1;31mTypeError\u001b[0m                                 Traceback (most recent call last)",
      "Cell \u001b[1;32mIn[5], line 1\u001b[0m\n\u001b[1;32m----> 1\u001b[0m classifier \u001b[39m=\u001b[39m Classifier(num_samples \u001b[39m=\u001b[39;49m x\u001b[39m.\u001b[39;49mshape[\u001b[39m0\u001b[39;49m], num_channels\u001b[39m=\u001b[39;49mx\u001b[39m.\u001b[39;49mshape[\u001b[39m1\u001b[39;49m])\n\u001b[0;32m      3\u001b[0m \u001b[39m# Train the classifier using your training data\u001b[39;00m\n\u001b[0;32m      4\u001b[0m \u001b[39m# train_loader should be a DataLoader containing your training data\u001b[39;00m\n\u001b[0;32m      5\u001b[0m classifier\u001b[39m.\u001b[39mtrain(train_loader, num_epochs\u001b[39m=\u001b[39m\u001b[39m10\u001b[39m, learning_rate\u001b[39m=\u001b[39m\u001b[39m0.001\u001b[39m)\n",
      "\u001b[1;31mTypeError\u001b[0m: Classifier.__init__() got an unexpected keyword argument 'num_samples'"
     ]
    }
   ],
   "source": [
    "classifier = Classifier(num_channels=x.shape[1], num_time_steps=x.shape[2])\n",
    "\n",
    "# Train the classifier using your training data\n",
    "# train_loader should be a DataLoader containing your training data\n",
    "classifier.train(train_loader, num_epochs=10, learning_rate=0.001)\n",
    "\n",
    "classifier.evaluate(test_loader)"
   ]
  },
  {
   "cell_type": "code",
   "execution_count": null,
   "metadata": {},
   "outputs": [],
   "source": []
  }
 ],
 "metadata": {
  "kernelspec": {
   "display_name": ".venv",
   "language": "python",
   "name": "python3"
  },
  "language_info": {
   "codemirror_mode": {
    "name": "ipython",
    "version": 3
   },
   "file_extension": ".py",
   "mimetype": "text/x-python",
   "name": "python",
   "nbconvert_exporter": "python",
   "pygments_lexer": "ipython3",
   "version": "3.10.8"
  },
  "orig_nbformat": 4
 },
 "nbformat": 4,
 "nbformat_minor": 2
}
