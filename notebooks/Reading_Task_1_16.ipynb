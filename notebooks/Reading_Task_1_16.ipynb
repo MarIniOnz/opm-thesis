{
 "cells": [
  {
   "cell_type": "code",
   "execution_count": 2,
   "metadata": {},
   "outputs": [],
   "source": [
    "import os\n",
    "import pyxdf\n",
    "import mne\n",
    "import logging\n",
    "from opm_thesis.xdf2mne.xdf2mne import streams2raw\n"
   ]
  },
  {
   "cell_type": "code",
   "execution_count": 15,
   "metadata": {},
   "outputs": [
    {
     "name": "stderr",
     "output_type": "stream",
     "text": [
      "C:\\Users\\user\\Desktop\\MasterThesis\\opm-thesis\\opm_thesis\\xdf2mne\\xdf2mne.py:148: RuntimeWarning: divide by zero encountered in double_scalars\n",
      "  effective_srate = n_samples/(np.ptp(stream['time_stamps']))\n",
      "nominal_srate must be positive. Using effective_srate=inf Hz instead\n"
     ]
    },
    {
     "ename": "TypeError",
     "evalue": "argument of type 'NoneType' is not iterable",
     "output_type": "error",
     "traceback": [
      "\u001b[1;31m---------------------------------------------------------------------------\u001b[0m",
      "\u001b[1;31mTypeError\u001b[0m                                 Traceback (most recent call last)",
      "Cell \u001b[1;32mIn[15], line 11\u001b[0m\n\u001b[0;32m      8\u001b[0m stream \u001b[39m=\u001b[39m streams[\u001b[39m0\u001b[39m]\n\u001b[0;32m      9\u001b[0m marker_stream \u001b[39m=\u001b[39m streams[\u001b[39m1\u001b[39m]\n\u001b[1;32m---> 11\u001b[0m raw, events, event_id \u001b[39m=\u001b[39m streams2raw(stream, marker_streams\u001b[39m=\u001b[39;49m[marker_stream])\n\u001b[0;32m     13\u001b[0m \u001b[39mprint\u001b[39m(\u001b[39mf\u001b[39m\u001b[39m\"\u001b[39m\u001b[39mraw contains the following annotations: \u001b[39m\u001b[39m{\u001b[39;00mraw\u001b[39m.\u001b[39mannotations\u001b[39m}\u001b[39;00m\u001b[39m\"\u001b[39m)\n\u001b[0;32m     14\u001b[0m \u001b[39m# The events array is redundant with annotations, you can do\u001b[39;00m\n",
      "File \u001b[1;32m~\\Desktop\\MasterThesis\\opm-thesis\\opm_thesis\\xdf2mne\\xdf2mne.py:122\u001b[0m, in \u001b[0;36mstreams2raw\u001b[1;34m(data_stream, marker_streams, ch_type_t)\u001b[0m\n\u001b[0;32m    121\u001b[0m \u001b[39mdef\u001b[39;00m \u001b[39mstreams2raw\u001b[39m(data_stream: \u001b[39mdict\u001b[39m, marker_streams: List[\u001b[39mdict\u001b[39m] \u001b[39m=\u001b[39m \u001b[39mNone\u001b[39;00m, ch_type_t: Callable \u001b[39m=\u001b[39m ch_type_transform_default) \u001b[39m-\u001b[39m\u001b[39m>\u001b[39m mne\u001b[39m.\u001b[39mio\u001b[39m.\u001b[39mRawArray:\n\u001b[1;32m--> 122\u001b[0m     raw, t_original \u001b[39m=\u001b[39m stream2raw(data_stream, ch_type_t\u001b[39m=\u001b[39;49mch_type_t)\n\u001b[0;32m    123\u001b[0m     raw_add_annotations(raw, t_reference\u001b[39m=\u001b[39mt_original, marker_streams\u001b[39m=\u001b[39mmarker_streams)\n\u001b[0;32m    124\u001b[0m     \u001b[39mreturn\u001b[39;00m raw\n",
      "File \u001b[1;32m~\\Desktop\\MasterThesis\\opm-thesis\\opm_thesis\\xdf2mne\\xdf2mne.py:158\u001b[0m, in \u001b[0;36mstream2raw\u001b[1;34m(stream, ch_type_t)\u001b[0m\n\u001b[0;32m    155\u001b[0m     ch_type_t \u001b[39m=\u001b[39m ch_type_transform\n\u001b[0;32m    157\u001b[0m \u001b[39m## Prepare info structure\u001b[39;00m\n\u001b[1;32m--> 158\u001b[0m ch_names, ch_types, ch_units \u001b[39m=\u001b[39m get_ch_info(stream[\u001b[39m'\u001b[39;49m\u001b[39minfo\u001b[39;49m\u001b[39m'\u001b[39;49m], ch_type_t\u001b[39m=\u001b[39;49mch_type_t)\n\u001b[0;32m    159\u001b[0m info \u001b[39m=\u001b[39m mne\u001b[39m.\u001b[39mcreate_info(ch_names, sfreq, ch_types)\n\u001b[0;32m    161\u001b[0m \u001b[39m# Prepare data by bringing units into SI units\u001b[39;00m\n",
      "File \u001b[1;32m~\\Desktop\\MasterThesis\\opm-thesis\\opm_thesis\\xdf2mne\\xdf2mne.py:211\u001b[0m, in \u001b[0;36mget_ch_info\u001b[1;34m(info, ch_type_t)\u001b[0m\n\u001b[0;32m    209\u001b[0m \u001b[39mif\u001b[39;00m \u001b[39m'\u001b[39m\u001b[39mdesc\u001b[39m\u001b[39m'\u001b[39m \u001b[39min\u001b[39;00m info:\n\u001b[0;32m    210\u001b[0m     desc \u001b[39m=\u001b[39m info[\u001b[39m'\u001b[39m\u001b[39mdesc\u001b[39m\u001b[39m'\u001b[39m][\u001b[39m0\u001b[39m]\n\u001b[1;32m--> 211\u001b[0m     \u001b[39mif\u001b[39;00m \u001b[39m'\u001b[39;49m\u001b[39mchannels\u001b[39;49m\u001b[39m'\u001b[39;49m \u001b[39min\u001b[39;49;00m desc \u001b[39mand\u001b[39;00m \u001b[39m'\u001b[39m\u001b[39mchannel\u001b[39m\u001b[39m'\u001b[39m \u001b[39min\u001b[39;00m desc[\u001b[39m'\u001b[39m\u001b[39mchannels\u001b[39m\u001b[39m'\u001b[39m][\u001b[39m0\u001b[39m]:\n\u001b[0;32m    212\u001b[0m         \u001b[39mfor\u001b[39;00m ch_info_idx, channel \u001b[39min\u001b[39;00m \u001b[39menumerate\u001b[39m(desc[\u001b[39m'\u001b[39m\u001b[39mchannels\u001b[39m\u001b[39m'\u001b[39m][\u001b[39m0\u001b[39m][\u001b[39m'\u001b[39m\u001b[39mchannel\u001b[39m\u001b[39m'\u001b[39m]):\n\u001b[0;32m    213\u001b[0m             \u001b[39mif\u001b[39;00m \u001b[39m'\u001b[39m\u001b[39mlabel\u001b[39m\u001b[39m'\u001b[39m \u001b[39min\u001b[39;00m channel:\n",
      "\u001b[1;31mTypeError\u001b[0m: argument of type 'NoneType' is not iterable"
     ]
    }
   ],
   "source": [
    "logger = logging.getLogger(__name__)\n",
    "\n",
    "filename = \"C://Users//user\\Desktop\\MasterThesis\\opm-thesis\\data//2023-06-03_finger_discrimination_pilot_jan\\Task_1_16.xdf\"\n",
    "\n",
    "streams, fileheader = pyxdf.load_xdf(filename, dejitter_timestamps=True)\n",
    "\n",
    "##%\n",
    "stream = streams[0]\n",
    "marker_stream = streams[1]\n",
    "\n",
    "raw, events, event_id = streams2raw(stream, marker_streams=[marker_stream])\n",
    "\n",
    "print(f\"raw contains the following annotations: {raw.annotations}\")\n",
    "# The events array is redundant with annotations, you can do\n",
    "events_from_annotations = mne.annotations.events_from_annotations(raw, event_id)\n",
    "# and should receive the same array as events\n"
   ]
  },
  {
   "cell_type": "code",
   "execution_count": 16,
   "metadata": {},
   "outputs": [
    {
     "ename": "NameError",
     "evalue": "name 'raw' is not defined",
     "output_type": "error",
     "traceback": [
      "\u001b[1;31m---------------------------------------------------------------------------\u001b[0m",
      "\u001b[1;31mNameError\u001b[0m                                 Traceback (most recent call last)",
      "Cell \u001b[1;32mIn[16], line 1\u001b[0m\n\u001b[1;32m----> 1\u001b[0m raw\n",
      "\u001b[1;31mNameError\u001b[0m: name 'raw' is not defined"
     ]
    }
   ],
   "source": [
    "raw"
   ]
  }
 ],
 "metadata": {
  "kernelspec": {
   "display_name": "Python 3",
   "language": "python",
   "name": "python3"
  },
  "language_info": {
   "codemirror_mode": {
    "name": "ipython",
    "version": 3
   },
   "file_extension": ".py",
   "mimetype": "text/x-python",
   "name": "python",
   "nbconvert_exporter": "python",
   "pygments_lexer": "ipython3",
   "version": "3.10.8"
  },
  "orig_nbformat": 4
 },
 "nbformat": 4,
 "nbformat_minor": 2
}
